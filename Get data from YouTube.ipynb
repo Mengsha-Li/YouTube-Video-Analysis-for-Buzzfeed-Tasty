{
  "nbformat": 4,
  "nbformat_minor": 0,
  "metadata": {
    "kernelspec": {
      "display_name": "Python 3",
      "language": "python",
      "name": "python3"
    },
    "language_info": {
      "codemirror_mode": {
        "name": "ipython",
        "version": 3
      },
      "file_extension": ".py",
      "mimetype": "text/x-python",
      "name": "python",
      "nbconvert_exporter": "python",
      "pygments_lexer": "ipython3",
      "version": "3.7.4"
    },
    "colab": {
      "name": "Final Project.ipynb",
      "provenance": []
    }
  },
  "cells": [
    {
      "cell_type": "code",
      "metadata": {
        "id": "FzIBDPQRqUuX",
        "colab_type": "code",
        "colab": {}
      },
      "source": [
        "#!pip install selenium\n",
        "#!pip install youtube_transcript_api\n",
        "import requests\n",
        "import bs4 as bs\n",
        "import time\n",
        "import json\n",
        "import pprint\n",
        "import os\n",
        "from selenium import webdriver \n",
        "import pandas as pd \n",
        "from selenium.webdriver.common.by import By \n",
        "from selenium.webdriver.support.ui import WebDriverWait \n",
        "from selenium.webdriver.support import expected_conditions as EC\n",
        "from youtube_transcript_api import YouTubeTranscriptApi"
      ],
      "execution_count": 0,
      "outputs": []
    },
    {
      "cell_type": "markdown",
      "metadata": {
        "id": "Az4um3AHqUub",
        "colab_type": "text"
      },
      "source": [
        "### Part 1\n",
        "Getting the links on fle"
      ]
    },
    {
      "cell_type": "code",
      "metadata": {
        "id": "OFXE0F1KqUub",
        "colab_type": "code",
        "colab": {},
        "outputId": "c61003b7-fba0-4d28-f70c-e83f42a070f7"
      },
      "source": [
        "current_wkd = os.getcwd()\n",
        "current_wkd"
      ],
      "execution_count": 0,
      "outputs": [
        {
          "output_type": "execute_result",
          "data": {
            "text/plain": [
              "'/Users/nandinibasu/Desktop/MyDocs/MSBA/Winter /BAX 422/Final Project'"
            ]
          },
          "metadata": {
            "tags": []
          },
          "execution_count": 2
        }
      ]
    },
    {
      "cell_type": "code",
      "metadata": {
        "id": "OkMjLcfAqUuf",
        "colab_type": "code",
        "colab": {}
      },
      "source": [
        "# Using Selenium to access the main Tasty videos page\n",
        "header = {'User-agent': 'Mozilla/5.0'} \n",
        "video_url = \"https://www.youtube.com/channel/UCJFp8uSYCjXOMnkUyb3CQ3Q/videos\"\n",
        "driver = webdriver.Chrome('/Users/nandinibasu/anaconda3/lib/python3.7/site-packages/chromedriver')  \n",
        "driver.get(video_url)"
      ],
      "execution_count": 0,
      "outputs": []
    },
    {
      "cell_type": "code",
      "metadata": {
        "id": "mUIORJsdqUuh",
        "colab_type": "code",
        "colab": {}
      },
      "source": [
        "with open('tasty_page.htm', 'w') as f:\n",
        "    f.write(driver.page_source)"
      ],
      "execution_count": 0,
      "outputs": []
    },
    {
      "cell_type": "code",
      "metadata": {
        "id": "xtYupJFHqUuk",
        "colab_type": "code",
        "colab": {},
        "outputId": "fb8cfee5-6e30-4da6-a629-476d4e8a502a"
      },
      "source": [
        "# Extracting and saving video links \n",
        "# We manually scroll through the page to get videos that are in the year 2019\n",
        "video = driver.find_elements_by_xpath('//*[@id=\"video-title\"]')\n",
        "video_ids = []\n",
        "videos = []\n",
        "for count, vid in enumerate(video):\n",
        "    # getting each url\n",
        "    url = vid.get_attribute('href')\n",
        "    \n",
        "    response = requests.get(url, headers=header)\n",
        "    vid_name = 'video'+ str(count+1)\n",
        "    pagename = vid_name +\".htm\"\n",
        "    vid_id = url[-11:]\n",
        "    \n",
        "    os.chdir(current_wkd+'/tasty_videos')\n",
        "    f = open(pagename, 'w')\n",
        "    f.write(response.text)\n",
        "    f.close()\n",
        "    \n",
        "    video_ids.append(vid_id)\n",
        "    videos.append(vid.get_attribute('href'))\n",
        "\n",
        "print(len(videos))"
      ],
      "execution_count": 0,
      "outputs": [
        {
          "output_type": "stream",
          "text": [
            "1379\n"
          ],
          "name": "stdout"
        }
      ]
    },
    {
      "cell_type": "code",
      "metadata": {
        "id": "QuE-ay-pqUum",
        "colab_type": "code",
        "colab": {},
        "outputId": "0087940d-588d-48c7-8ddb-390ae234f6ce"
      },
      "source": [
        "os.chdir(current_wkd) \n",
        "current_wkd"
      ],
      "execution_count": 0,
      "outputs": [
        {
          "output_type": "execute_result",
          "data": {
            "text/plain": [
              "'/Users/nandinibasu/Desktop/MyDocs/MSBA/Winter /BAX 422/Final Project'"
            ]
          },
          "metadata": {
            "tags": []
          },
          "execution_count": 6
        }
      ]
    },
    {
      "cell_type": "code",
      "metadata": {
        "id": "LxtDuT4dqUuo",
        "colab_type": "code",
        "colab": {}
      },
      "source": [
        "# Quitting driver cuz I don't want youtube to block me\n",
        "driver.quit()"
      ],
      "execution_count": 0,
      "outputs": []
    },
    {
      "cell_type": "markdown",
      "metadata": {
        "id": "DycBL-z6qUur",
        "colab_type": "text"
      },
      "source": [
        "### Part 2\n",
        "We won't be scrapping the links again. We will be using the video links stored on file to furthur scrape"
      ]
    },
    {
      "cell_type": "code",
      "metadata": {
        "id": "vr5ZocL1qUur",
        "colab_type": "code",
        "colab": {},
        "outputId": "96f71cbe-664a-49aa-d295-89a2f774caa7"
      },
      "source": [
        "len(video_ids)"
      ],
      "execution_count": 0,
      "outputs": [
        {
          "output_type": "execute_result",
          "data": {
            "text/plain": [
              "1379"
            ]
          },
          "metadata": {
            "tags": []
          },
          "execution_count": 22
        }
      ]
    },
    {
      "cell_type": "code",
      "metadata": {
        "id": "yYQqqFlkqUuu",
        "colab_type": "code",
        "colab": {}
      },
      "source": [
        "f = open('video_ids.txt', 'w')\n",
        "for ids in video_ids:\n",
        "    f.write(ids+'\\n')\n",
        "f.close()"
      ],
      "execution_count": 0,
      "outputs": []
    },
    {
      "cell_type": "code",
      "metadata": {
        "id": "w2RPPSm9qUuw",
        "colab_type": "code",
        "colab": {}
      },
      "source": [
        "tasty_table = pd.DataFrame()\n",
        "tasty_table[\"ids\"] = video_ids"
      ],
      "execution_count": 0,
      "outputs": []
    },
    {
      "cell_type": "code",
      "metadata": {
        "id": "qWNo98aiqUuy",
        "colab_type": "code",
        "colab": {}
      },
      "source": [
        "os.chdir(current_wkd+'/tasty_videos')\n",
        "tasty_titles = []\n",
        "for index in range(len(video_ids)):\n",
        "    try:\n",
        "        vid_title ={}\n",
        "        f = open(\"video\"+str(index+1)+\".htm\", 'r')\n",
        "        page = f.read()\n",
        "        f.close()\n",
        "    \n",
        "        tasty_soup = bs.BeautifulSoup(page,'html.parser')\n",
        "        vid_title = tasty_soup.find(\"span\", attrs={\"class\": \"watch-title\"}).text.strip()\n",
        "        tasty_titles.append(vid_title)\n",
        "    except:\n",
        "        vid_title = \"N/A\"\n",
        "        tasty_titles.append(vid_title)\n",
        "        pass\n",
        "    \n",
        "os.chdir(current_wkd)"
      ],
      "execution_count": 0,
      "outputs": []
    },
    {
      "cell_type": "code",
      "metadata": {
        "id": "COzYlKV1qUu0",
        "colab_type": "code",
        "colab": {}
      },
      "source": [
        "tasty_table['titles'] = tasty_titles"
      ],
      "execution_count": 0,
      "outputs": []
    },
    {
      "cell_type": "code",
      "metadata": {
        "id": "7gk5ShGjqUu3",
        "colab_type": "code",
        "colab": {}
      },
      "source": [
        "os.chdir(current_wkd+'/tasty_videos')\n",
        "tasty_desc = []\n",
        "for index in range(len(video_ids)):\n",
        "    try:\n",
        "        vid_desc ={}\n",
        "        f = open(\"video\"+str(index+1)+\".htm\", 'r')\n",
        "        page = f.read()\n",
        "        f.close()\n",
        "    \n",
        "        tasty_soup = bs.BeautifulSoup(page,'html.parser')\n",
        "        vid_desc = tasty_soup.find(\"p\", attrs={\"id\": \"eow-description\"}).text\n",
        "        tasty_desc.append(vid_desc)\n",
        "    except:\n",
        "        vid_desc = \"N/A\"\n",
        "        tasty_desc.append(vid_desc)\n",
        "        pass\n",
        "    \n",
        "os.chdir(current_wkd)"
      ],
      "execution_count": 0,
      "outputs": []
    },
    {
      "cell_type": "code",
      "metadata": {
        "id": "mzxdOAxtqUu5",
        "colab_type": "code",
        "colab": {}
      },
      "source": [
        "tasty_table['description'] = tasty_desc"
      ],
      "execution_count": 0,
      "outputs": []
    },
    {
      "cell_type": "code",
      "metadata": {
        "id": "RzeqB3pGqUu6",
        "colab_type": "code",
        "colab": {}
      },
      "source": [
        "os.chdir(current_wkd+'/tasty_videos')\n",
        "tasty_views = []\n",
        "for index in range(len(video_ids)):\n",
        "    try:\n",
        "        vid_views ={}\n",
        "        f = open(\"video\"+str(index+1)+\".htm\", 'r')\n",
        "        page = f.read()\n",
        "        f.close()\n",
        "    \n",
        "        tasty_soup = bs.BeautifulSoup(page,'html.parser')\n",
        "        vid_views = int(tasty_soup.find(\"div\", attrs={\"class\": \"watch-view-count\"}).text[:-6].replace(\",\", \"\"))\n",
        "        tasty_views.append(vid_views)\n",
        "    except:\n",
        "        vid_views = \"N/A\"\n",
        "        tasty_views.append(vid_views)\n",
        "        pass\n",
        "    \n",
        "os.chdir(current_wkd)"
      ],
      "execution_count": 0,
      "outputs": []
    },
    {
      "cell_type": "code",
      "metadata": {
        "id": "cUVTnM51qUu9",
        "colab_type": "code",
        "colab": {}
      },
      "source": [
        "tasty_table['views'] = tasty_views"
      ],
      "execution_count": 0,
      "outputs": []
    },
    {
      "cell_type": "code",
      "metadata": {
        "id": "4M7vke0WqUvA",
        "colab_type": "code",
        "colab": {}
      },
      "source": [
        "os.chdir(current_wkd+'/tasty_videos')\n",
        "tasty_date = []\n",
        "for index in range(len(video_ids)):\n",
        "    try:\n",
        "        vid_date ={}\n",
        "        f = open(\"video\"+str(index+1)+\".htm\", 'r')\n",
        "        page = f.read()\n",
        "        f.close()\n",
        "    \n",
        "        tasty_soup = bs.BeautifulSoup(page,'html.parser')\n",
        "        vid_date = tasty_soup.find(\"strong\", attrs={\"class\": \"watch-time-text\"}).text\n",
        "        tasty_date.append(vid_date)\n",
        "    except:\n",
        "        vid_date = \"N/A\"\n",
        "        tasty_date.append(vid_date)\n",
        "        pass\n",
        "    \n",
        "os.chdir(current_wkd)"
      ],
      "execution_count": 0,
      "outputs": []
    },
    {
      "cell_type": "code",
      "metadata": {
        "id": "BepArav-qUvB",
        "colab_type": "code",
        "colab": {}
      },
      "source": [
        "tasty_table['date'] = tasty_date"
      ],
      "execution_count": 0,
      "outputs": []
    },
    {
      "cell_type": "code",
      "metadata": {
        "id": "524BJ-32qUvE",
        "colab_type": "code",
        "colab": {}
      },
      "source": [
        "os.chdir(current_wkd+'/tasty_videos')\n",
        "tasty_likes = []\n",
        "tasty_dislikes = []\n",
        "for index in range(len(video_ids)):\n",
        "    try:\n",
        "        vid_likes ={}\n",
        "        vid_dislikes ={}\n",
        "        f = open(\"video\"+str(index+1)+\".htm\", 'r')\n",
        "        page = f.read()\n",
        "        f.close()\n",
        "    \n",
        "        tasty_soup = bs.BeautifulSoup(page,'html.parser')\n",
        "        vid_likes = int(tasty_soup.find(\"button\", attrs={\"title\": \"I like this\"}).text.replace(\",\", \"\"))\n",
        "        vid_dislikes = int(tasty_soup.find(\"button\", attrs={\"title\": \"I dislike this\"}).text.replace(\",\", \"\"))\n",
        "        tasty_likes.append(vid_likes)\n",
        "        tasty_dislikes.append(vid_dislikes)\n",
        "    except:\n",
        "        vid_likes = \"N/A\"\n",
        "        vid_dislikes = \"N/A\"\n",
        "        tasty_likes.append(vid_likes)\n",
        "        tasty_dislikes.append(vid_dislikes)\n",
        "        pass\n",
        "    \n",
        "os.chdir(current_wkd)"
      ],
      "execution_count": 0,
      "outputs": []
    },
    {
      "cell_type": "code",
      "metadata": {
        "id": "trqPbOXbqUvH",
        "colab_type": "code",
        "colab": {}
      },
      "source": [
        "tasty_table['likes'] = tasty_likes\n",
        "tasty_table['dislikes'] = tasty_dislikes"
      ],
      "execution_count": 0,
      "outputs": []
    },
    {
      "cell_type": "code",
      "metadata": {
        "id": "B4ANxRpVqUvK",
        "colab_type": "code",
        "colab": {}
      },
      "source": [
        "f = open(\"tasty_page.htm\", 'r')\n",
        "main_page = f.read()\n",
        "f.close()\n",
        "page_soup = bs.BeautifulSoup(main_page,'html.parser')\n",
        "video_len = page_soup.find_all(\"span\", attrs={\"class\": \"style-scope ytd-thumbnail-overlay-time-status-renderer\"})"
      ],
      "execution_count": 0,
      "outputs": []
    },
    {
      "cell_type": "code",
      "metadata": {
        "id": "dAE1bXcTqUvM",
        "colab_type": "code",
        "colab": {}
      },
      "source": [
        "tasty_len =[]\n",
        "for vid_len in video_len:\n",
        "    try:\n",
        "        tasty_len.append(vid_len.text.strip())\n",
        "    except: \n",
        "        tasty_len.append(\"N/A\")\n",
        "        pass   "
      ],
      "execution_count": 0,
      "outputs": []
    },
    {
      "cell_type": "code",
      "metadata": {
        "id": "ikyUIlCTqUvO",
        "colab_type": "code",
        "colab": {}
      },
      "source": [
        "tasty_table['length'] = tasty_len"
      ],
      "execution_count": 0,
      "outputs": []
    },
    {
      "cell_type": "code",
      "metadata": {
        "id": "zSgnjOsqqUvQ",
        "colab_type": "code",
        "colab": {}
      },
      "source": [
        "# Getting subtitles\n",
        "tasty_captions =[]\n",
        "\n",
        "for video in video_ids:\n",
        "    try:\n",
        "        text = ''\n",
        "        sub = YouTubeTranscriptApi.get_transcript(video)\n",
        "        for index in range(len(sub)):\n",
        "            t = sub[index]['text']\n",
        "            text = text + \" \" + t\n",
        "        tasty_captions.append(text)\n",
        "    except: \n",
        "        tasty_captions.append(\"N/A\")\n",
        "        pass   "
      ],
      "execution_count": 0,
      "outputs": []
    },
    {
      "cell_type": "code",
      "metadata": {
        "id": "9xmbzCQiqUvS",
        "colab_type": "code",
        "colab": {}
      },
      "source": [
        "tasty_table['subtitle'] = tasty_captions"
      ],
      "execution_count": 0,
      "outputs": []
    },
    {
      "cell_type": "code",
      "metadata": {
        "id": "D1Zy4aicqUvV",
        "colab_type": "code",
        "colab": {},
        "outputId": "488f97ed-aacb-484c-b2e5-74fba7c626d6"
      },
      "source": [
        "tasty_captions[1]"
      ],
      "execution_count": 0,
      "outputs": [
        {
          "output_type": "execute_result",
          "data": {
            "text/plain": [
              "' [Music]'"
            ]
          },
          "metadata": {
            "tags": []
          },
          "execution_count": 110
        }
      ]
    },
    {
      "cell_type": "code",
      "metadata": {
        "id": "Cycxf0FbqUvX",
        "colab_type": "code",
        "colab": {},
        "outputId": "f3a11da0-8437-43e3-9ba9-28f57e0396f9"
      },
      "source": [
        "tasty_table.head()"
      ],
      "execution_count": 0,
      "outputs": [
        {
          "output_type": "execute_result",
          "data": {
            "text/html": [
              "<div>\n",
              "<style scoped>\n",
              "    .dataframe tbody tr th:only-of-type {\n",
              "        vertical-align: middle;\n",
              "    }\n",
              "\n",
              "    .dataframe tbody tr th {\n",
              "        vertical-align: top;\n",
              "    }\n",
              "\n",
              "    .dataframe thead th {\n",
              "        text-align: right;\n",
              "    }\n",
              "</style>\n",
              "<table border=\"1\" class=\"dataframe\">\n",
              "  <thead>\n",
              "    <tr style=\"text-align: right;\">\n",
              "      <th></th>\n",
              "      <th>ids</th>\n",
              "      <th>titles</th>\n",
              "      <th>description</th>\n",
              "      <th>views</th>\n",
              "      <th>date</th>\n",
              "      <th>likes</th>\n",
              "      <th>dislikes</th>\n",
              "      <th>length</th>\n",
              "      <th>subtitle</th>\n",
              "    </tr>\n",
              "  </thead>\n",
              "  <tbody>\n",
              "    <tr>\n",
              "      <td>0</td>\n",
              "      <td>8K7XiEOx3Fw</td>\n",
              "      <td>I Tested Amazon's Best-Selling Air Fryer • Alix</td>\n",
              "      <td>Alix is testing Amazon's best selling air frye...</td>\n",
              "      <td>104887</td>\n",
              "      <td>Published on Mar 9, 2020</td>\n",
              "      <td>5108</td>\n",
              "      <td>307</td>\n",
              "      <td>12:30</td>\n",
              "      <td>three two one boop-boo-boo-boop I did it and ...</td>\n",
              "    </tr>\n",
              "    <tr>\n",
              "      <td>1</td>\n",
              "      <td>ysVnhqwlDbo</td>\n",
              "      <td>16 Ways To Up Your Breakfast Toast Game • Tasty</td>\n",
              "      <td>Toast in 2020 is far superior to anything you'...</td>\n",
              "      <td>128680</td>\n",
              "      <td>Published on Mar 7, 2020</td>\n",
              "      <td>3932</td>\n",
              "      <td>88</td>\n",
              "      <td>5:42</td>\n",
              "      <td>[Music]</td>\n",
              "    </tr>\n",
              "    <tr>\n",
              "      <td>2</td>\n",
              "      <td>OoH1oGAJ7jI</td>\n",
              "      <td>Tasty Producers Swap Their Favorite Snacks • R...</td>\n",
              "      <td>Andrew and Rie are swapping their favorite sna...</td>\n",
              "      <td>832586</td>\n",
              "      <td>Published on Mar 7, 2020</td>\n",
              "      <td>23600</td>\n",
              "      <td>341</td>\n",
              "      <td>12:54</td>\n",
              "      <td>it is a little weird now that I'm doing it in...</td>\n",
              "    </tr>\n",
              "    <tr>\n",
              "      <td>3</td>\n",
              "      <td>7xycoVXyFGE</td>\n",
              "      <td>Stuffed French Toast by Chef Andrea Drummer</td>\n",
              "      <td>Inspired by bread pudding and crème brûlée, th...</td>\n",
              "      <td>105588</td>\n",
              "      <td>Published on Mar 5, 2020</td>\n",
              "      <td>4421</td>\n",
              "      <td>73</td>\n",
              "      <td>3:34</td>\n",
              "      <td>I love french toast I'm not really a pancake ...</td>\n",
              "    </tr>\n",
              "    <tr>\n",
              "      <td>4</td>\n",
              "      <td>oUeanf1tg7U</td>\n",
              "      <td>5 Homemade Dumplings To Feast On • Tasty</td>\n",
              "      <td>The tastiest dumplings you ever did see. Shop ...</td>\n",
              "      <td>324847</td>\n",
              "      <td>Published on Mar 5, 2020</td>\n",
              "      <td>8608</td>\n",
              "      <td>175</td>\n",
              "      <td>6:23</td>\n",
              "      <td>N/A</td>\n",
              "    </tr>\n",
              "  </tbody>\n",
              "</table>\n",
              "</div>"
            ],
            "text/plain": [
              "           ids                                             titles  \\\n",
              "0  8K7XiEOx3Fw    I Tested Amazon's Best-Selling Air Fryer • Alix   \n",
              "1  ysVnhqwlDbo    16 Ways To Up Your Breakfast Toast Game • Tasty   \n",
              "2  OoH1oGAJ7jI  Tasty Producers Swap Their Favorite Snacks • R...   \n",
              "3  7xycoVXyFGE        Stuffed French Toast by Chef Andrea Drummer   \n",
              "4  oUeanf1tg7U           5 Homemade Dumplings To Feast On • Tasty   \n",
              "\n",
              "                                         description   views  \\\n",
              "0  Alix is testing Amazon's best selling air frye...  104887   \n",
              "1  Toast in 2020 is far superior to anything you'...  128680   \n",
              "2  Andrew and Rie are swapping their favorite sna...  832586   \n",
              "3  Inspired by bread pudding and crème brûlée, th...  105588   \n",
              "4  The tastiest dumplings you ever did see. Shop ...  324847   \n",
              "\n",
              "                       date  likes dislikes length  \\\n",
              "0  Published on Mar 9, 2020   5108      307  12:30   \n",
              "1  Published on Mar 7, 2020   3932       88   5:42   \n",
              "2  Published on Mar 7, 2020  23600      341  12:54   \n",
              "3  Published on Mar 5, 2020   4421       73   3:34   \n",
              "4  Published on Mar 5, 2020   8608      175   6:23   \n",
              "\n",
              "                                            subtitle  \n",
              "0   three two one boop-boo-boo-boop I did it and ...  \n",
              "1                                            [Music]  \n",
              "2   it is a little weird now that I'm doing it in...  \n",
              "3   I love french toast I'm not really a pancake ...  \n",
              "4                                                N/A  "
            ]
          },
          "metadata": {
            "tags": []
          },
          "execution_count": 109
        }
      ]
    },
    {
      "cell_type": "code",
      "metadata": {
        "id": "D-rFg4tfqUvZ",
        "colab_type": "code",
        "colab": {}
      },
      "source": [
        "tasty_table.to_csv(r'/Users/nandinibasu/Desktop/MyDocs/MSBA/Winter /BAX 422/Final Project/Tasty_Videos.csv')"
      ],
      "execution_count": 0,
      "outputs": []
    },
    {
      "cell_type": "code",
      "metadata": {
        "id": "wyDJokzWqUvb",
        "colab_type": "code",
        "colab": {}
      },
      "source": [
        ""
      ],
      "execution_count": 0,
      "outputs": []
    }
  ]
}